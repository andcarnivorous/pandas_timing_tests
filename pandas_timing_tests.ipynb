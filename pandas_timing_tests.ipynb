{
 "cells": [
  {
   "cell_type": "code",
   "execution_count": 1,
   "id": "square-rwanda",
   "metadata": {
    "collapsed": false
   },
   "outputs": [],
   "source": [
    "import pandas as pd\n",
    "import numpy as np\n",
    "\n",
    "idx1 = pd.date_range(\"2020-01-01\", \"2020-01-10\", freq=\"min\")\n",
    "idx2 = pd.date_range(\"2020-01-01\", \"2020-01-10\", freq=\"min\")\n",
    "idx = pd.concat([idx1.to_series(), idx2.to_series()]).sort_index()\n",
    "versions = np.random.randint(1,5,len(idx))\n",
    "vals1 = np.random.uniform(0, 100, len(idx))\n",
    "vals2 = np.random.uniform(0, 100, len(idx))"
   ]
  },
  {
   "cell_type": "code",
   "execution_count": 4,
   "id": "funky-soviet",
   "metadata": {
    "collapsed": false
   },
   "outputs": [
    {
     "data": {
      "text/plain": [
       "25922"
      ]
     },
     "execution_count": 4,
     "metadata": {},
     "output_type": "execute_result"
    }
   ],
   "source": [
    "len(versions)"
   ]
  },
  {
   "cell_type": "code",
   "execution_count": 5,
   "id": "dietary-taylor",
   "metadata": {
    "collapsed": false
   },
   "outputs": [
    {
     "data": {
      "text/html": [
       "<div>\n",
       "<style scoped>\n",
       "    .dataframe tbody tr th:only-of-type {\n",
       "        vertical-align: middle;\n",
       "    }\n",
       "\n",
       "    .dataframe tbody tr th {\n",
       "        vertical-align: top;\n",
       "    }\n",
       "\n",
       "    .dataframe thead th {\n",
       "        text-align: right;\n",
       "    }\n",
       "</style>\n",
       "<table border=\"1\" class=\"dataframe\">\n",
       "  <thead>\n",
       "    <tr style=\"text-align: right;\">\n",
       "      <th></th>\n",
       "      <th>values1</th>\n",
       "      <th>values2</th>\n",
       "    </tr>\n",
       "  </thead>\n",
       "  <tbody>\n",
       "    <tr>\n",
       "      <th>2020-01-01 00:00:00</th>\n",
       "      <td>78.760705</td>\n",
       "      <td>52.777184</td>\n",
       "    </tr>\n",
       "    <tr>\n",
       "      <th>2020-01-01 00:00:00</th>\n",
       "      <td>79.530675</td>\n",
       "      <td>69.868044</td>\n",
       "    </tr>\n",
       "    <tr>\n",
       "      <th>2020-01-01 00:01:00</th>\n",
       "      <td>31.225034</td>\n",
       "      <td>24.489480</td>\n",
       "    </tr>\n",
       "    <tr>\n",
       "      <th>2020-01-01 00:01:00</th>\n",
       "      <td>36.523530</td>\n",
       "      <td>39.653527</td>\n",
       "    </tr>\n",
       "    <tr>\n",
       "      <th>2020-01-01 00:02:00</th>\n",
       "      <td>56.160539</td>\n",
       "      <td>70.148007</td>\n",
       "    </tr>\n",
       "  </tbody>\n",
       "</table>\n",
       "</div>"
      ],
      "text/plain": [
       "                       values1    values2\n",
       "2020-01-01 00:00:00  78.760705  52.777184\n",
       "2020-01-01 00:00:00  79.530675  69.868044\n",
       "2020-01-01 00:01:00  31.225034  24.489480\n",
       "2020-01-01 00:01:00  36.523530  39.653527\n",
       "2020-01-01 00:02:00  56.160539  70.148007"
      ]
     },
     "execution_count": 5,
     "metadata": {},
     "output_type": "execute_result"
    }
   ],
   "source": [
    "df = pd.DataFrame(index=idx, columns=[\"values1\", \"values2\"])\n",
    "df[\"values1\"], df[\"values2\"] = vals1, vals2\n",
    "df.head()"
   ]
  },
  {
   "cell_type": "code",
   "execution_count": 6,
   "id": "violent-digest",
   "metadata": {
    "collapsed": false
   },
   "outputs": [
    {
     "name": "stdout",
     "output_type": "stream",
     "text": [
      "12.3 s ± 829 ms per loop (mean ± std. dev. of 7 runs, 1 loop each)\n"
     ]
    }
   ],
   "source": [
    "%%timeit\n",
    "lista = dict()\n",
    "for index, timestamp in enumerate(df.index):\n",
    "    if index > 0:\n",
    "        if df.iloc[index][\"values1\"] > df.iloc[index-1][\"values2\"]:\n",
    "            lista[df.index[index]] = df.iloc[index][[\"values1\", \"values2\"]]"
   ]
  },
  {
   "cell_type": "code",
   "execution_count": 5,
   "id": "vertical-venue",
   "metadata": {
    "collapsed": false
   },
   "outputs": [
    {
     "ename": "NameError",
     "evalue": "name 'lista' is not defined",
     "output_type": "error",
     "traceback": [
      "\u001b[0;31m---------------------------------------------------------------------------\u001b[0m",
      "\u001b[0;31mNameError\u001b[0m                                 Traceback (most recent call last)",
      "\u001b[0;32m<ipython-input-5-47aabe866026>\u001b[0m in \u001b[0;36m<module>\u001b[0;34m\u001b[0m\n\u001b[0;32m----> 1\u001b[0;31m \u001b[0mlista\u001b[0m\u001b[0;34m\u001b[0m\u001b[0;34m\u001b[0m\u001b[0m\n\u001b[0m",
      "\u001b[0;31mNameError\u001b[0m: name 'lista' is not defined"
     ]
    }
   ],
   "source": [
    "lista"
   ]
  },
  {
   "cell_type": "code",
   "execution_count": 7,
   "id": "banner-convertible",
   "metadata": {
    "collapsed": false
   },
   "outputs": [
    {
     "data": {
      "text/plain": [
       "2020-01-01 00:00:00    -1.000000\n",
       "2020-01-01 00:00:00    52.777184\n",
       "2020-01-01 00:01:00    69.868044\n",
       "2020-01-01 00:01:00    24.489480\n",
       "2020-01-01 00:02:00    39.653527\n",
       "                         ...    \n",
       "2020-01-09 23:58:00    90.046258\n",
       "2020-01-09 23:59:00    89.396062\n",
       "2020-01-09 23:59:00    52.848374\n",
       "2020-01-10 00:00:00    98.663033\n",
       "2020-01-10 00:00:00    70.771429\n",
       "Name: values2, Length: 25922, dtype: float64"
      ]
     },
     "execution_count": 7,
     "metadata": {},
     "output_type": "execute_result"
    }
   ],
   "source": [
    "prev_idx = df.index.shift(freq=\"-1min\")\n",
    "prev_vals2 = df[\"values2\"].shift(1).fillna(-1)\n",
    "prev_vals2\n"
   ]
  },
  {
   "cell_type": "code",
   "execution_count": 9,
   "id": "thrown-bloom",
   "metadata": {
    "collapsed": false
   },
   "outputs": [
    {
     "name": "stdout",
     "output_type": "stream",
     "text": [
      "449 µs ± 5.51 µs per loop (mean ± std. dev. of 7 runs, 1000 loops each)\n"
     ]
    }
   ],
   "source": [
    "%%timeit\n",
    "res = np.where(((df.index == prev_idx) & (df[\"values1\"].values < prev_vals2)),\n",
    "        df[\"values1\"].values, df[\"values2\"].values)"
   ]
  },
  {
   "cell_type": "code",
   "execution_count": 30,
   "id": "brief-zimbabwe",
   "metadata": {
    "collapsed": false
   },
   "outputs": [
    {
     "data": {
      "text/plain": [
       "array([57.49487431, 79.48133615, 60.36623463, ...,  7.15592885,\n",
       "        4.50433933, 58.18880318])"
      ]
     },
     "execution_count": 30,
     "metadata": {},
     "output_type": "execute_result"
    }
   ],
   "source": [
    "res[res > 0]"
   ]
  },
  {
   "cell_type": "code",
   "execution_count": null,
   "id": "welcome-morris",
   "metadata": {
    "collapsed": false
   },
   "outputs": [],
   "source": [
    "%%timeit\n",
    "\n",
    "def compare(row):\n",
    "    if row > 0:\n",
    "        if row[\"values1\"] > df.iloc[row.index]"
   ]
  }
 ],
 "metadata": {
  "kernelspec": {
   "argv": [
    "python",
    "-m",
    "ipykernel_launcher",
    "-f",
    "{connection_file}"
   ],
   "display_name": "Python 3",
   "env": null,
   "interrupt_mode": "signal",
   "language": "python",
   "metadata": null,
   "name": "python3"
  },
  "language_info": {
   "codemirror_mode": {
    "name": "ipython",
    "version": 3
   },
   "file_extension": ".py",
   "mimetype": "text/x-python",
   "name": "python",
   "nbconvert_exporter": "python",
   "pygments_lexer": "ipython3",
   "version": "3.8.5"
  },
  "name": "pandas_timing_tests.ipynb"
 },
 "nbformat": 4,
 "nbformat_minor": 5
}
